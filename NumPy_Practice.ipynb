{
 "cells": [
  {
   "cell_type": "code",
   "execution_count": 1,
   "id": "cb4863e4-d5fa-4612-85c7-f5199f5a5bc7",
   "metadata": {},
   "outputs": [],
   "source": [
    "import numpy as np"
   ]
  },
  {
   "cell_type": "code",
   "execution_count": 38,
   "id": "8863bf1d-8dea-4fdb-83ab-62c3b7be1f42",
   "metadata": {},
   "outputs": [
    {
     "data": {
      "text/plain": [
       "(1, (3,), numpy.ndarray, 3, dtype('int32'))"
      ]
     },
     "execution_count": 38,
     "metadata": {},
     "output_type": "execute_result"
    }
   ],
   "source": [
    "a1=np.array([1,2,3])\n",
    "a1.ndim,a1.shape,type(a1),a1.size,a1.dtype"
   ]
  },
  {
   "cell_type": "code",
   "execution_count": 34,
   "id": "5097743c-fbbe-4dd3-9a1d-b2f4abaa175f",
   "metadata": {},
   "outputs": [
    {
     "data": {
      "text/plain": [
       "(2, (4, 3))"
      ]
     },
     "execution_count": 34,
     "metadata": {},
     "output_type": "execute_result"
    }
   ],
   "source": [
    "a2=np.array([[1,2,3],[1,2,3],[1,2,3],[1,2,3]])\n",
    "a2.ndim,a2.shape"
   ]
  },
  {
   "cell_type": "code",
   "execution_count": 32,
   "id": "85c92e62-1302-4cba-91eb-371d5c05038e",
   "metadata": {},
   "outputs": [
    {
     "data": {
      "text/plain": [
       "(3,\n",
       " (2, 2, 3),\n",
       " array([[[1, 2, 3],\n",
       "         [1, 2, 3]],\n",
       " \n",
       "        [[1, 2, 3],\n",
       "         [1, 2, 3]]]))"
      ]
     },
     "execution_count": 32,
     "metadata": {},
     "output_type": "execute_result"
    }
   ],
   "source": [
    "a3=np.array([[[1,2,3],[1,2,3]],[[1,2,3],[1,2,3]]])\n",
    "a3.ndim,a3.shape,a3"
   ]
  },
  {
   "cell_type": "code",
   "execution_count": 42,
   "id": "03d2bebc-ca4f-46e2-af53-3f60f44631bf",
   "metadata": {},
   "outputs": [
    {
     "data": {
      "text/html": [
       "<div>\n",
       "<style scoped>\n",
       "    .dataframe tbody tr th:only-of-type {\n",
       "        vertical-align: middle;\n",
       "    }\n",
       "\n",
       "    .dataframe tbody tr th {\n",
       "        vertical-align: top;\n",
       "    }\n",
       "\n",
       "    .dataframe thead th {\n",
       "        text-align: right;\n",
       "    }\n",
       "</style>\n",
       "<table border=\"1\" class=\"dataframe\">\n",
       "  <thead>\n",
       "    <tr style=\"text-align: right;\">\n",
       "      <th></th>\n",
       "      <th>0</th>\n",
       "      <th>1</th>\n",
       "      <th>2</th>\n",
       "    </tr>\n",
       "  </thead>\n",
       "  <tbody>\n",
       "    <tr>\n",
       "      <th>0</th>\n",
       "      <td>1</td>\n",
       "      <td>2</td>\n",
       "      <td>3</td>\n",
       "    </tr>\n",
       "    <tr>\n",
       "      <th>1</th>\n",
       "      <td>1</td>\n",
       "      <td>2</td>\n",
       "      <td>3</td>\n",
       "    </tr>\n",
       "    <tr>\n",
       "      <th>2</th>\n",
       "      <td>1</td>\n",
       "      <td>2</td>\n",
       "      <td>3</td>\n",
       "    </tr>\n",
       "    <tr>\n",
       "      <th>3</th>\n",
       "      <td>1</td>\n",
       "      <td>2</td>\n",
       "      <td>3</td>\n",
       "    </tr>\n",
       "  </tbody>\n",
       "</table>\n",
       "</div>"
      ],
      "text/plain": [
       "   0  1  2\n",
       "0  1  2  3\n",
       "1  1  2  3\n",
       "2  1  2  3\n",
       "3  1  2  3"
      ]
     },
     "execution_count": 42,
     "metadata": {},
     "output_type": "execute_result"
    }
   ],
   "source": [
    "import pandas as pd\n",
    "df3=pd.DataFrame(a2)\n",
    "df3"
   ]
  },
  {
   "cell_type": "code",
   "execution_count": 47,
   "id": "65a707c7-3096-4e98-92cc-d892e055af2f",
   "metadata": {},
   "outputs": [
    {
     "data": {
      "text/plain": [
       "array([[1., 1.],\n",
       "       [1., 1.],\n",
       "       [1., 1.],\n",
       "       [1., 1.],\n",
       "       [1., 1.],\n",
       "       [1., 1.],\n",
       "       [1., 1.],\n",
       "       [1., 1.],\n",
       "       [1., 1.],\n",
       "       [1., 1.]])"
      ]
     },
     "execution_count": 47,
     "metadata": {},
     "output_type": "execute_result"
    }
   ],
   "source": [
    "ones=np.ones((10,2))\n",
    "ones"
   ]
  },
  {
   "cell_type": "code",
   "execution_count": 54,
   "id": "f1e8f06d-ffcb-4a77-9b8c-1cd210e64b8f",
   "metadata": {},
   "outputs": [
    {
     "data": {
      "text/plain": [
       "array([[[0., 0., 0.],\n",
       "        [0., 0., 0.]],\n",
       "\n",
       "       [[0., 0., 0.],\n",
       "        [0., 0., 0.]],\n",
       "\n",
       "       [[0., 0., 0.],\n",
       "        [0., 0., 0.]],\n",
       "\n",
       "       [[0., 0., 0.],\n",
       "        [0., 0., 0.]],\n",
       "\n",
       "       [[0., 0., 0.],\n",
       "        [0., 0., 0.]],\n",
       "\n",
       "       [[0., 0., 0.],\n",
       "        [0., 0., 0.]],\n",
       "\n",
       "       [[0., 0., 0.],\n",
       "        [0., 0., 0.]]])"
      ]
     },
     "execution_count": 54,
     "metadata": {},
     "output_type": "execute_result"
    }
   ],
   "source": [
    "zeros=np.zeros((7,2,3))\n",
    "zeros"
   ]
  },
  {
   "cell_type": "code",
   "execution_count": 55,
   "id": "dd74a745-8a73-41f8-98b6-f98fc818e366",
   "metadata": {},
   "outputs": [
    {
     "data": {
      "text/plain": [
       "array([ 0,  3,  6,  9, 12, 15, 18, 21, 24, 27, 30, 33, 36, 39, 42, 45, 48,\n",
       "       51, 54, 57, 60, 63, 66, 69, 72, 75, 78, 81, 84, 87, 90, 93, 96, 99])"
      ]
     },
     "execution_count": 55,
     "metadata": {},
     "output_type": "execute_result"
    }
   ],
   "source": [
    "np.arange(0,100,3)"
   ]
  },
  {
   "cell_type": "code",
   "execution_count": 59,
   "id": "6a7e68a3-d1de-45bb-8114-afaf5a64dd0a",
   "metadata": {},
   "outputs": [
    {
     "data": {
      "text/plain": [
       "array([[6, 4],\n",
       "       [6, 0],\n",
       "       [7, 3],\n",
       "       [8, 0],\n",
       "       [4, 2],\n",
       "       [2, 5],\n",
       "       [1, 8]])"
      ]
     },
     "execution_count": 59,
     "metadata": {},
     "output_type": "execute_result"
    }
   ],
   "source": [
    "np.random.randint(0,10,size=(7,2))"
   ]
  },
  {
   "cell_type": "code",
   "execution_count": 61,
   "id": "b8a6292f-c29f-489f-bd89-1ef91aef6098",
   "metadata": {},
   "outputs": [
    {
     "data": {
      "text/plain": [
       "array([[0.82333052, 0.9683629 , 0.08852302, 0.29794114, 0.35714454],\n",
       "       [0.81941973, 0.45875754, 0.43657219, 0.96948853, 0.18325847],\n",
       "       [0.9708653 , 0.83296409, 0.5854588 , 0.74932822, 0.87385463]])"
      ]
     },
     "execution_count": 61,
     "metadata": {},
     "output_type": "execute_result"
    }
   ],
   "source": [
    "np.random.rand(3,5)"
   ]
  },
  {
   "cell_type": "code",
   "execution_count": 62,
   "id": "608221c4-7ce9-4d59-857b-35f2c44ee2ce",
   "metadata": {},
   "outputs": [
    {
     "data": {
      "text/plain": [
       "array([[0.7081005 , 0.56750628, 0.04374415, 0.90831961, 0.12177765],\n",
       "       [0.17345541, 0.93834089, 0.28794407, 0.63205412, 0.05419879],\n",
       "       [0.24877835, 0.67688929, 0.79376182, 0.44322658, 0.76388949]])"
      ]
     },
     "execution_count": 62,
     "metadata": {},
     "output_type": "execute_result"
    }
   ],
   "source": [
    "np.random.random((3,5))"
   ]
  },
  {
   "cell_type": "code",
   "execution_count": 63,
   "id": "df4b03fa-662d-465c-97db-256b10dfbbc2",
   "metadata": {},
   "outputs": [
    {
     "data": {
      "text/plain": [
       "array([[6, 3, 7, 4, 6, 9],\n",
       "       [2, 6, 7, 4, 3, 7],\n",
       "       [7, 2, 5, 4, 1, 7],\n",
       "       [5, 1, 4, 0, 9, 5]])"
      ]
     },
     "execution_count": 63,
     "metadata": {},
     "output_type": "execute_result"
    }
   ],
   "source": [
    "np.random.seed(42)\n",
    "np.random.randint(0,10,size=(4,6))"
   ]
  },
  {
   "cell_type": "code",
   "execution_count": 68,
   "id": "2dcb0173-f1fb-4611-8ca7-3330984829a5",
   "metadata": {},
   "outputs": [
    {
     "data": {
      "text/plain": [
       "(array([[2, 5, 8, 9, 9, 1, 9],\n",
       "        [7, 9, 8, 1, 8, 8, 3],\n",
       "        [1, 8, 3, 3, 1, 5, 7]]),\n",
       " array([1, 2, 3, 5, 7, 8, 9]))"
      ]
     },
     "execution_count": 68,
     "metadata": {},
     "output_type": "execute_result"
    }
   ],
   "source": [
    "a5=np.random.randint(1,10,size=(3,7))\n",
    "a5,np.unique(a5)"
   ]
  },
  {
   "cell_type": "code",
   "execution_count": 69,
   "id": "34f56f8c-74a6-456c-98df-47fd5d73c175",
   "metadata": {},
   "outputs": [
    {
     "data": {
      "text/plain": [
       "array([2, 5, 8, 9, 9, 1, 9])"
      ]
     },
     "execution_count": 69,
     "metadata": {},
     "output_type": "execute_result"
    }
   ],
   "source": [
    "a5[0]"
   ]
  },
  {
   "cell_type": "code",
   "execution_count": 71,
   "id": "ab523ceb-8af9-425a-904e-a60292182dbc",
   "metadata": {},
   "outputs": [
    {
     "data": {
      "text/plain": [
       "array([[2, 5, 8, 9, 9, 1, 9],\n",
       "       [7, 9, 8, 1, 8, 8, 3]])"
      ]
     },
     "execution_count": 71,
     "metadata": {},
     "output_type": "execute_result"
    }
   ],
   "source": [
    "a5[:2]"
   ]
  },
  {
   "cell_type": "code",
   "execution_count": 3,
   "id": "12443e5a-f8f3-4ec3-b940-f99022fa409a",
   "metadata": {},
   "outputs": [
    {
     "data": {
      "text/plain": [
       "array([[1, 5, 5, 7, 4],\n",
       "       [4, 6, 1, 7, 0],\n",
       "       [7, 3, 0, 3, 9]])"
      ]
     },
     "execution_count": 3,
     "metadata": {},
     "output_type": "execute_result"
    }
   ],
   "source": [
    "a6=np.random.randint(0,10,size=(3,5))\n",
    "a6"
   ]
  },
  {
   "cell_type": "code",
   "execution_count": 76,
   "id": "478e7628-ec45-409e-b83c-a83c49230de7",
   "metadata": {},
   "outputs": [],
   "source": [
    "a7=np.ones((3,5))"
   ]
  },
  {
   "cell_type": "code",
   "execution_count": 77,
   "id": "4cade2f2-203b-418a-ae89-64fa1b9e06a5",
   "metadata": {},
   "outputs": [
    {
     "data": {
      "text/plain": [
       "array([[ 1.,  3.,  5.,  3.,  1.],\n",
       "       [ 5., 10.,  7.,  7.,  9.],\n",
       "       [10., 10.,  3.,  7.,  1.]])"
      ]
     },
     "execution_count": 77,
     "metadata": {},
     "output_type": "execute_result"
    }
   ],
   "source": [
    "a6+a7"
   ]
  },
  {
   "cell_type": "code",
   "execution_count": 15,
   "id": "e4f3765e-cb2a-4014-a4f1-be20dce0b9b4",
   "metadata": {},
   "outputs": [
    {
     "data": {
      "text/plain": [
       "array([[1., 1., 1., 1., 1.],\n",
       "       [1., 1., 1., 1., 1.],\n",
       "       [1., 1., 1., 1., 1.]])"
      ]
     },
     "execution_count": 15,
     "metadata": {},
     "output_type": "execute_result"
    }
   ],
   "source": [
    "a8=np.ones((3,5))\n",
    "a8"
   ]
  },
  {
   "cell_type": "code",
   "execution_count": 82,
   "id": "c92070bd-b642-4eaa-aa99-9bcfc7d85618",
   "metadata": {},
   "outputs": [
    {
     "data": {
      "text/plain": [
       "((3, 5), (3, 5))"
      ]
     },
     "execution_count": 82,
     "metadata": {},
     "output_type": "execute_result"
    }
   ],
   "source": [
    "a8.shape,a7.shape"
   ]
  },
  {
   "cell_type": "code",
   "execution_count": 83,
   "id": "58706cc8-a656-4226-85ae-b079c15ba4b2",
   "metadata": {},
   "outputs": [
    {
     "data": {
      "text/plain": [
       "array([[0., 0., 0., 0., 0.],\n",
       "       [0., 0., 0., 0., 0.],\n",
       "       [0., 0., 0., 0., 0.]])"
      ]
     },
     "execution_count": 83,
     "metadata": {},
     "output_type": "execute_result"
    }
   ],
   "source": [
    "a8-a7"
   ]
  },
  {
   "cell_type": "code",
   "execution_count": 85,
   "id": "6d6bc0cd-49d2-4529-a6b7-66d6e2fc3637",
   "metadata": {},
   "outputs": [
    {
     "data": {
      "text/plain": [
       "array([[0., 0., 0., 0., 0.],\n",
       "       [0., 0., 0., 0., 0.],\n",
       "       [0., 0., 0., 0., 0.]])"
      ]
     },
     "execution_count": 85,
     "metadata": {},
     "output_type": "execute_result"
    }
   ],
   "source": [
    "np.subtract(a8,a7)"
   ]
  },
  {
   "cell_type": "code",
   "execution_count": 4,
   "id": "b4d15544-d87f-408f-8c63-2453663ee0d6",
   "metadata": {},
   "outputs": [
    {
     "data": {
      "text/plain": [
       "array([[1., 5., 5., 7., 4.],\n",
       "       [4., 6., 1., 7., 0.],\n",
       "       [7., 3., 0., 3., 9.]])"
      ]
     },
     "execution_count": 4,
     "metadata": {},
     "output_type": "execute_result"
    }
   ],
   "source": [
    "a6 * a8"
   ]
  },
  {
   "cell_type": "code",
   "execution_count": 6,
   "id": "d44cad70-99e7-40b1-a0ba-8c2da6455e74",
   "metadata": {},
   "outputs": [
    {
     "data": {
      "text/plain": [
       "array([[1., 5., 5., 7., 4.],\n",
       "       [4., 6., 1., 7., 0.],\n",
       "       [7., 3., 0., 3., 9.]])"
      ]
     },
     "execution_count": 6,
     "metadata": {},
     "output_type": "execute_result"
    }
   ],
   "source": [
    "np.multiply(a6 ,a8)"
   ]
  },
  {
   "cell_type": "code",
   "execution_count": 8,
   "id": "733da927-a52f-4196-b66b-d65e5dd7b36b",
   "metadata": {},
   "outputs": [
    {
     "data": {
      "text/plain": [
       "array([[ 1, 25, 25, 49, 16],\n",
       "       [16, 36,  1, 49,  0],\n",
       "       [49,  9,  0,  9, 81]])"
      ]
     },
     "execution_count": 8,
     "metadata": {},
     "output_type": "execute_result"
    }
   ],
   "source": [
    "a6**2"
   ]
  },
  {
   "cell_type": "code",
   "execution_count": 10,
   "id": "eee85673-b9e6-4958-832a-d97ef7dd6ce5",
   "metadata": {},
   "outputs": [
    {
     "data": {
      "text/plain": [
       "array([[ 1, 25, 25, 49, 16],\n",
       "       [16, 36,  1, 49,  0],\n",
       "       [49,  9,  0,  9, 81]])"
      ]
     },
     "execution_count": 10,
     "metadata": {},
     "output_type": "execute_result"
    }
   ],
   "source": [
    "np.square(a6)"
   ]
  },
  {
   "cell_type": "code",
   "execution_count": 12,
   "id": "45d6c495-ef99-4542-9f64-74280849203f",
   "metadata": {},
   "outputs": [
    {
     "data": {
      "text/plain": [
       "(4.133333333333334, 9, 0, 2.704728370013439, 7.315555555555554)"
      ]
     },
     "execution_count": 12,
     "metadata": {},
     "output_type": "execute_result"
    }
   ],
   "source": [
    "np.mean(a6),np.max(a6),np.min(a6),np.std(a6),np.var(a6)"
   ]
  },
  {
   "cell_type": "code",
   "execution_count": 13,
   "id": "836620ad-225d-4e2e-95a0-025ee801847f",
   "metadata": {},
   "outputs": [
    {
     "data": {
      "text/plain": [
       "array([[[1.],\n",
       "        [1.],\n",
       "        [1.],\n",
       "        [1.],\n",
       "        [1.]],\n",
       "\n",
       "       [[1.],\n",
       "        [1.],\n",
       "        [1.],\n",
       "        [1.],\n",
       "        [1.]],\n",
       "\n",
       "       [[1.],\n",
       "        [1.],\n",
       "        [1.],\n",
       "        [1.],\n",
       "        [1.]]])"
      ]
     },
     "execution_count": 13,
     "metadata": {},
     "output_type": "execute_result"
    }
   ],
   "source": [
    "a8.reshape(3,5,1)"
   ]
  },
  {
   "cell_type": "code",
   "execution_count": 17,
   "id": "bd7d730f-b764-4cb7-92cb-e90b09d6828a",
   "metadata": {},
   "outputs": [
    {
     "data": {
      "text/plain": [
       "array([[1., 1., 1.],\n",
       "       [1., 1., 1.],\n",
       "       [1., 1., 1.],\n",
       "       [1., 1., 1.],\n",
       "       [1., 1., 1.]])"
      ]
     },
     "execution_count": 17,
     "metadata": {},
     "output_type": "execute_result"
    }
   ],
   "source": [
    "#a8.T\n",
    "a8.transpose()"
   ]
  },
  {
   "cell_type": "code",
   "execution_count": 19,
   "id": "0d5fc489-9fa0-4012-bb5b-a6c7ba8dec25",
   "metadata": {},
   "outputs": [],
   "source": [
    "np.random.seed(0)\n",
    "a1=np.random.randint(0,10,size=(3,3))\n",
    "a2=np.random.randint(0,10,size=(3,2))"
   ]
  },
  {
   "cell_type": "code",
   "execution_count": 20,
   "id": "7fc23339-0351-475b-8e29-9290067c0763",
   "metadata": {},
   "outputs": [
    {
     "data": {
      "text/plain": [
       "array([[ 44,  38],\n",
       "       [126,  86],\n",
       "       [ 58,  63]])"
      ]
     },
     "execution_count": 20,
     "metadata": {},
     "output_type": "execute_result"
    }
   ],
   "source": [
    "a1@a2"
   ]
  },
  {
   "cell_type": "code",
   "execution_count": 21,
   "id": "aad644e7-f5e8-439c-ae0a-3f034fb34023",
   "metadata": {},
   "outputs": [
    {
     "data": {
      "text/plain": [
       "array([[ 44,  38],\n",
       "       [126,  86],\n",
       "       [ 58,  63]])"
      ]
     },
     "execution_count": 21,
     "metadata": {},
     "output_type": "execute_result"
    }
   ],
   "source": [
    "a1.dot(a2)"
   ]
  },
  {
   "cell_type": "code",
   "execution_count": 38,
   "id": "3d42c988-7401-4b30-a3d8-3a97a4d26a7a",
   "metadata": {},
   "outputs": [
    {
     "data": {
      "text/plain": [
       "(array([[5, 8, 9],\n",
       "        [5, 0, 0],\n",
       "        [1, 7, 6],\n",
       "        [9, 2, 4]]),\n",
       " array([[5, 2, 4],\n",
       "        [2, 4, 7],\n",
       "        [7, 9, 1],\n",
       "        [7, 0, 6]]))"
      ]
     },
     "execution_count": 38,
     "metadata": {},
     "output_type": "execute_result"
    }
   ],
   "source": [
    "np.random.seed(1)\n",
    "a3=np.random.randint(0,10,size=(4,3))\n",
    "a4=np.random.randint(0,10,size=(4,3))\n",
    "a3,a4"
   ]
  },
  {
   "cell_type": "code",
   "execution_count": 24,
   "id": "27e76104-660f-4d3c-b840-5249dce0575a",
   "metadata": {},
   "outputs": [
    {
     "data": {
      "text/plain": [
       "array([[ 43,  51,  55,  72],\n",
       "       [ 89, 130,  76, 164],\n",
       "       [ 66,  67,  39,  85],\n",
       "       [ 94, 115,  69, 146]])"
      ]
     },
     "execution_count": 24,
     "metadata": {},
     "output_type": "execute_result"
    }
   ],
   "source": [
    "a3.dot(a4.T)"
   ]
  },
  {
   "cell_type": "code",
   "execution_count": 27,
   "id": "bd6590a0-0244-4bb8-85c2-fcee5ad481b4",
   "metadata": {},
   "outputs": [
    {
     "data": {
      "text/plain": [
       "(array([[False, False,  True],\n",
       "        [False, False,  True],\n",
       "        [False,  True, False],\n",
       "        [False, False, False]]),\n",
       " array([[False, False,  True],\n",
       "        [False,  True,  True],\n",
       "        [False,  True, False],\n",
       "        [False, False, False]]))"
      ]
     },
     "execution_count": 27,
     "metadata": {},
     "output_type": "execute_result"
    }
   ],
   "source": [
    "a3>a4,a3>=a4"
   ]
  },
  {
   "cell_type": "code",
   "execution_count": 28,
   "id": "5e5f912b-f6d0-4318-915a-f95aaa86a638",
   "metadata": {},
   "outputs": [
    {
     "data": {
      "text/plain": [
       "array([[False, False, False],\n",
       "       [False, False,  True],\n",
       "       [False, False, False],\n",
       "       [False, False, False]])"
      ]
     },
     "execution_count": 28,
     "metadata": {},
     "output_type": "execute_result"
    }
   ],
   "source": [
    "a3>7"
   ]
  },
  {
   "cell_type": "code",
   "execution_count": 29,
   "id": "cda972f5-2349-47f7-bcd6-4ca733102f3d",
   "metadata": {},
   "outputs": [
    {
     "data": {
      "text/plain": [
       "array([[False, False, False],\n",
       "       [False,  True, False],\n",
       "       [False, False, False],\n",
       "       [False, False, False]])"
      ]
     },
     "execution_count": 29,
     "metadata": {},
     "output_type": "execute_result"
    }
   ],
   "source": [
    "a3==a4"
   ]
  },
  {
   "cell_type": "code",
   "execution_count": 31,
   "id": "fbb9cce5-9ce2-47f0-a8e7-590db3629dce",
   "metadata": {},
   "outputs": [
    {
     "data": {
      "text/plain": [
       "array([[0, 3, 5],\n",
       "       [3, 7, 9],\n",
       "       [2, 3, 5],\n",
       "       [4, 6, 7]])"
      ]
     },
     "execution_count": 31,
     "metadata": {},
     "output_type": "execute_result"
    }
   ],
   "source": [
    "np.sort(a3)"
   ]
  },
  {
   "cell_type": "code",
   "execution_count": 39,
   "id": "bf70e741-fbe2-4185-b740-aefe21c01fed",
   "metadata": {},
   "outputs": [
    {
     "data": {
      "text/plain": [
       "(array([[5, 8, 9],\n",
       "        [5, 0, 0],\n",
       "        [1, 7, 6],\n",
       "        [9, 2, 4]]),\n",
       " array([[0, 1, 2],\n",
       "        [1, 2, 0],\n",
       "        [0, 2, 1],\n",
       "        [1, 2, 0]], dtype=int64))"
      ]
     },
     "execution_count": 39,
     "metadata": {},
     "output_type": "execute_result"
    }
   ],
   "source": [
    "a3,np.argsort(a3)"
   ]
  },
  {
   "cell_type": "code",
   "execution_count": 40,
   "id": "f0f441fd-88f6-4bdb-bd31-666b19a01fba",
   "metadata": {},
   "outputs": [
    {
     "data": {
      "text/plain": [
       "(4, 2)"
      ]
     },
     "execution_count": 40,
     "metadata": {},
     "output_type": "execute_result"
    }
   ],
   "source": [
    "np.argmin(a3),np.argmax(a3)"
   ]
  },
  {
   "cell_type": "code",
   "execution_count": 41,
   "id": "e02cb5a5-dbc1-46f2-a3e5-3a9af9f03ad8",
   "metadata": {},
   "outputs": [
    {
     "data": {
      "text/plain": [
       "array([2, 1, 1], dtype=int64)"
      ]
     },
     "execution_count": 41,
     "metadata": {},
     "output_type": "execute_result"
    }
   ],
   "source": [
    "np.argmin(a3,axis=0)"
   ]
  },
  {
   "cell_type": "code",
   "execution_count": 43,
   "id": "194593ef-092f-4adf-90d4-58cf88568f46",
   "metadata": {},
   "outputs": [
    {
     "data": {
      "text/plain": [
       "array([[ 0.04221375,  0.58281521, -1.10061918,  1.14472371,  0.90159072],\n",
       "       [ 0.50249434,  0.90085595, -0.68372786, -0.12289023, -0.93576943],\n",
       "       [-0.26788808,  0.53035547, -0.69166075, -0.39675353, -0.6871727 ],\n",
       "       [-0.84520564, -0.67124613, -0.0126646 , -1.11731035,  0.2344157 ],\n",
       "       [ 1.65980218,  0.74204416, -0.19183555, -0.88762896, -0.74715829],\n",
       "       [ 1.6924546 ,  0.05080775, -0.63699565,  0.19091548,  2.10025514],\n",
       "       [ 0.12015895,  0.61720311,  0.30017032, -0.35224985, -1.1425182 ],\n",
       "       [-0.34934272, -0.20889423,  0.58662319,  0.83898341,  0.93110208],\n",
       "       [ 0.28558733,  0.88514116, -0.75439794,  1.25286816,  0.51292982],\n",
       "       [-0.29809284,  0.48851815, -0.07557171,  1.13162939,  1.51981682]])"
      ]
     },
     "execution_count": 43,
     "metadata": {},
     "output_type": "execute_result"
    }
   ],
   "source": [
    "np.random.randn(10,5)"
   ]
  },
  {
   "cell_type": "code",
   "execution_count": 52,
   "id": "0442e03e-b3a7-4f20-ab8a-2412c018b7cc",
   "metadata": {},
   "outputs": [
    {
     "data": {
      "text/plain": [
       "array([ 1.  , 13.25, 25.5 , 37.75, 50.  ])"
      ]
     },
     "execution_count": 52,
     "metadata": {},
     "output_type": "execute_result"
    }
   ],
   "source": [
    "np.linspace(1,50,5)"
   ]
  },
  {
   "cell_type": "code",
   "execution_count": null,
   "id": "2def7635-6750-4d96-ba1d-a82a89d6c066",
   "metadata": {},
   "outputs": [],
   "source": []
  }
 ],
 "metadata": {
  "kernelspec": {
   "display_name": "Python 3 (ipykernel)",
   "language": "python",
   "name": "python3"
  },
  "language_info": {
   "codemirror_mode": {
    "name": "ipython",
    "version": 3
   },
   "file_extension": ".py",
   "mimetype": "text/x-python",
   "name": "python",
   "nbconvert_exporter": "python",
   "pygments_lexer": "ipython3",
   "version": "3.12.7"
  }
 },
 "nbformat": 4,
 "nbformat_minor": 5
}
